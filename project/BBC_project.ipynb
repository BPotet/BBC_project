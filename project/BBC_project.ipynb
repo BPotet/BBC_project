{
 "cells": [
  {
   "cell_type": "markdown",
   "metadata": {
    "pycharm": {
     "name": "#%% md\n"
    }
   },
   "source": [
    "# Détection des bio-marqueurs pour le cancer colorectal\n",
    "\n",
    "## Etudiants\n",
    "- Potet Bastien\n",
    "- Kot Chau Ying"
   ]
  },
  {
   "cell_type": "code",
   "execution_count": 49,
   "metadata": {
    "pycharm": {
     "name": "#%%\n"
    }
   },
   "outputs": [],
   "source": [
    "import os\n",
    "import numpy as np\n",
    "import pylab as plt\n",
    "%matplotlib inline\n",
    "import pandas as pd"
   ]
  },
  {
   "cell_type": "code",
   "execution_count": 50,
   "metadata": {
    "pycharm": {
     "name": "#%%\n"
    }
   },
   "outputs": [],
   "source": [
    "import numpy as np\n",
    "from Bio import Geo\n",
    "\n",
    "def load_geo(myfile):\n",
    "    handle = open(myfile)\n",
    "    records = Geo.parse(handle)\n",
    "    return records\n",
    "\n",
    "records = load_geo('data/GSE21510_family.soft')"
   ]
  },
  {
   "cell_type": "code",
   "execution_count": 51,
   "metadata": {},
   "outputs": [
    {
     "name": "stdout",
     "output_type": "stream",
     "text": [
      "GEO Type: DATABASE\n",
      "GEO Id: GeoMiame\n",
      "Database_email: geo@ncbi.nlm.nih.gov\n",
      "\n",
      "Database_institute: NCBI NLM NIH\n",
      "\n",
      "Database_name: Gene Expression Omnibus (GEO)\n",
      "\n",
      "Database_web_link: http://www.ncbi.nlm.nih.gov/geo\n",
      "\n",
      "Column Header Definitions\n",
      "\n",
      "\n",
      "---------------------- ENTITY_ATTRIBUTES:------------------------------\n",
      "\n",
      "{'Database_name': 'Gene Expression Omnibus (GEO)', 'Database_institute': 'NCBI NLM NIH', 'Database_web_link': 'http://www.ncbi.nlm.nih.gov/geo', 'Database_email': 'geo@ncbi.nlm.nih.gov'}\n"
     ]
    }
   ],
   "source": [
    " nr = next(records)\n",
    "print(nr)\n",
    "print('\\n---------------------- ENTITY_ATTRIBUTES:------------------------------\\n')\n",
    "print(nr.entity_attributes)"
   ]
  },
  {
   "cell_type": "code",
   "execution_count": 52,
   "metadata": {
    "pycharm": {
     "name": "#%%\n"
    }
   },
   "outputs": [],
   "source": [
    "# start by re-loading the data\n",
    "records = load_geo('data/GSE21510_family.soft')\n",
    "\n",
    "\n",
    "id_cond = {}\n",
    "\n",
    "dict_gene = dict()\n",
    "\n",
    "data = []\n",
    "\n",
    "# loop over records\n",
    "for r in records:\n",
    "\n",
    "    rea = r.entity_attributes\n",
    "\n",
    "    if 'Sample_characteristics_ch1' in rea :\n",
    "        sample = rea['Sample_description'][1]\n",
    "        desc = rea[\"Sample_characteristics_ch1\"]\n",
    "        id_cond[sample] = desc\n",
    "\n",
    "    if 'sample_table_begin' in rea:\n",
    "        data.append(r.table_rows)\n",
    "\n",
    "    if 'platform_table_begin' in rea :\n",
    "        for i in r.table_rows :\n",
    "            dict_gene[i[0]] = i[1]\n",
    "\n",
    "\n",
    "# converts data to an array (more practical to handle)\n",
    "data = np.array(data)"
   ]
  },
  {
   "cell_type": "code",
   "execution_count": 53,
   "metadata": {
    "pycharm": {
     "name": "#%%\n"
    }
   },
   "outputs": [],
   "source": [
    "metastatis_list = []\n",
    "stage_list = []\n",
    "tissue_list = []\n",
    "\n",
    "for k in id_cond:\n",
    "    v = id_cond[k]\n",
    "    metastatis = v[0].split(':')[1].strip()\n",
    "    stage = v[1].split(':')[1].strip()\n",
    "    tissue = v[2].split(':')[1].split(',')[0].strip()\n",
    "    \n",
    "    metastatis_list.append(metastatis)\n",
    "    stage_list.append(stage)\n",
    "    tissue_list.append(tissue)\n",
    "    \n",
    "    id_cond[k] = [metastatis, stage, tissue]\n",
    "\n",
    "metastatis_list = list(set(metastatis_list))\n",
    "stage_list = list(set(stage_list))\n",
    "tissue_list = list(set(tissue_list))"
   ]
  },
  {
   "cell_type": "code",
   "execution_count": 54,
   "metadata": {},
   "outputs": [
    {
     "name": "stdout",
     "output_type": "stream",
     "text": [
      "['metastasis', 'none', 'metastatic recurrence']\n",
      "['2b', '0', '4', '3b', '2a', '1', '3c', '3a']\n",
      "['cancer', 'normal']\n"
     ]
    }
   ],
   "source": [
    "print(metastatis_list)\n",
    "print(stage_list)\n",
    "print(tissue_list)"
   ]
  },
  {
   "cell_type": "code",
   "execution_count": 55,
   "metadata": {
    "pycharm": {
     "name": "#%%\n"
    }
   },
   "outputs": [
    {
     "name": "stdout",
     "output_type": "stream",
     "text": [
      "(148, 144, 2)\n"
     ]
    }
   ],
   "source": [
    "import random\n",
    "k = 6\n",
    "idx_test = random.sample(range(len(id_cond)), k)\n",
    "idx_train = list(range(0, len(id_cond) + 2))\n",
    "[idx_train.remove(i) for i in idx_test]\n",
    "\n",
    "data_test = data[:, idx_test]\n",
    "data = data[:, idx_train]\n",
    "\n",
    "print(np.shape(data))"
   ]
  },
  {
   "cell_type": "code",
   "execution_count": 39,
   "metadata": {},
   "outputs": [
    {
     "data": {
      "text/plain": [
       "dict_values([['metastatic recurrence', '2b', 'cancer'], ['none', '3b', 'cancer'], ['none', '3b', 'cancer'], ['none', '2b', 'cancer'], ['none', '3b', 'cancer'], ['metastasis', '4', 'cancer'], ['none', '2a', 'cancer'], ['none', '2a', 'cancer'], ['none', '3b', 'cancer'], ['metastasis', '4', 'cancer'], ['metastasis', '4', 'cancer'], ['none', '1', 'cancer'], ['none', '2b', 'cancer'], ['metastatic recurrence', '3b', 'cancer'], ['metastasis', '4', 'cancer'], ['none', '1', 'cancer'], ['metastasis', '4', 'cancer'], ['none', '2b', 'cancer'], ['none', '2a', 'cancer'], ['none', '2a', 'cancer'], ['none', '2b', 'cancer'], ['metastasis', '4', 'cancer'], ['metastasis', '4', 'cancer'], ['none', '3b', 'cancer'], ['none', '3c', 'cancer'], ['none', '1', 'cancer'], ['none', '2a', 'cancer'], ['none', '3b', 'cancer'], ['none', '3b', 'cancer'], ['metastasis', '4', 'cancer'], ['metastasis', '4', 'cancer'], ['none', '2a', 'cancer'], ['none', '2b', 'cancer'], ['none', '2b', 'cancer'], ['metastasis', '4', 'cancer'], ['metastasis', '4', 'cancer'], ['none', '1', 'cancer'], ['metastatic recurrence', '3b', 'cancer'], ['none', '2b', 'cancer'], ['metastatic recurrence', '2b', 'cancer'], ['none', '1', 'cancer'], ['none', '3a', 'cancer'], ['metastasis', '4', 'cancer'], ['metastatic recurrence', '2b', 'cancer'], ['none', '2a', 'cancer'], ['none', '3b', 'cancer'], ['none', '2b', 'cancer'], ['none', '2a', 'cancer'], ['none', '2a', 'cancer'], ['none', '2a', 'cancer'], ['none', '1', 'cancer'], ['none', '2b', 'cancer'], ['metastatic recurrence', '3b', 'cancer'], ['none', '2a', 'cancer'], ['metastasis', '4', 'cancer'], ['metastatic recurrence', '3b', 'cancer'], ['none', '2b', 'cancer'], ['metastatic recurrence', '3c', 'cancer'], ['none', '2a', 'cancer'], ['none', '3b', 'cancer'], ['none', '3b', 'cancer'], ['metastatic recurrence', '3b', 'cancer'], ['none', '1', 'cancer'], ['none', '3b', 'cancer'], ['metastasis', '4', 'cancer'], ['none', '2a', 'cancer'], ['metastatic recurrence', '2a', 'cancer'], ['metastatic recurrence', '2a', 'cancer'], ['none', '2b', 'cancer'], ['none', '3b', 'cancer'], ['none', '2a', 'cancer'], ['metastatic recurrence', '2b', 'cancer'], ['none', '2b', 'cancer'], ['metastasis', '4', 'cancer'], ['none', '2a', 'cancer'], ['none', '2b', 'cancer'], ['metastasis', '4', 'cancer'], ['none', '3b', 'cancer'], ['none', '3b', 'cancer'], ['none', '2a', 'cancer'], ['none', '3c', 'cancer'], ['metastasis', '4', 'cancer'], ['metastasis', '4', 'cancer'], ['none', '3c', 'cancer'], ['metastatic recurrence', '3c', 'cancer'], ['none', '1', 'cancer'], ['metastasis', '4', 'cancer'], ['none', '1', 'cancer'], ['none', '2a', 'cancer'], ['metastatic recurrence', '3b', 'cancer'], ['metastatic recurrence', '3b', 'cancer'], ['none', '3a', 'cancer'], ['none', '1', 'cancer'], ['none', '1', 'cancer'], ['none', '3a', 'cancer'], ['none', '2a', 'cancer'], ['metastasis', '4', 'cancer'], ['none', '1', 'cancer'], ['none', '3b', 'cancer'], ['metastatic recurrence', '3b', 'cancer'], ['none', '1', 'cancer'], ['metastatic recurrence', '3b', 'cancer'], ['none', '3a', 'cancer'], ['metastatic recurrence', '3c', 'cancer'], ['none', '2a', 'normal'], ['none', '3b', 'normal'], ['metastasis', '4', 'normal'], ['none', '1', 'normal'], ['metastatic recurrence', '3b', 'normal'], ['none', '1', 'normal'], ['metastasis', '4', 'normal'], ['metastasis', '4', 'normal'], ['none', '3b', 'normal'], ['none', '1', 'normal'], ['none', '2a', 'normal'], ['none', '2a', 'normal'], ['none', '2b', 'normal'], ['metastasis', '4', 'normal'], ['none', '2b', 'normal'], ['none', '2a', 'normal'], ['none', '3b', 'normal'], ['none', '3b', 'normal'], ['metastatic recurrence', '3b', 'normal'], ['none', '3c', 'normal'], ['none', '1', 'normal'], ['none', '3b', 'normal'], ['none', '0', 'normal'], ['none', '2a', 'normal'], ['metastatic recurrence', '2a', 'normal'], ['metastatic recurrence', '2b', 'cancer'], ['metastasis', '4', 'cancer'], ['metastatic recurrence', '2b', 'cancer'], ['metastasis', '4', 'cancer'], ['metastatic recurrence', '2b', 'cancer'], ['none', '3c', 'cancer'], ['metastatic recurrence', '3c', 'cancer'], ['none', '3b', 'cancer'], ['none', '2b', 'cancer'], ['none', '1', 'cancer'], ['none', '2a', 'cancer'], ['metastasis', '4', 'cancer'], ['none', '2a', 'cancer'], ['none', '2b', 'cancer'], ['metastatic recurrence', '3b', 'cancer'], ['none', '1', 'cancer'], ['none', '2a', 'cancer'], ['metastatic recurrence', '3b', 'cancer'], ['none', '2b', 'cancer']])"
      ]
     },
     "execution_count": 39,
     "metadata": {},
     "output_type": "execute_result"
    }
   ],
   "source": [
    "# cell types\n",
    "id_cond.values()"
   ]
  },
  {
   "cell_type": "code",
   "execution_count": null,
   "metadata": {},
   "outputs": [],
   "source": []
  }
 ],
 "metadata": {
  "kernelspec": {
   "display_name": "Python 3",
   "language": "python",
   "name": "python3"
  },
  "language_info": {
   "codemirror_mode": {
    "name": "ipython",
    "version": 3
   },
   "file_extension": ".py",
   "mimetype": "text/x-python",
   "name": "python",
   "nbconvert_exporter": "python",
   "pygments_lexer": "ipython3",
   "version": "3.9.5"
  }
 },
 "nbformat": 4,
 "nbformat_minor": 1
}
