{
 "cells": [
  {
   "cell_type": "markdown",
   "metadata": {
    "pycharm": {
     "name": "#%% md\n"
    }
   },
   "source": [
    "# Détection des bio-marqueurs pour le cancer colorectal\n",
    "\n",
    "## Etudiants\n",
    "- Potet Bastien\n",
    "- Kot Chau Ying"
   ]
  },
  {
   "cell_type": "code",
   "execution_count": 1,
   "metadata": {
    "pycharm": {
     "name": "#%%\n"
    }
   },
   "outputs": [],
   "source": [
    "import os\n",
    "import numpy as np\n",
    "import pylab as plt\n",
    "%matplotlib inline\n",
    "import pandas as pd"
   ]
  },
  {
   "cell_type": "code",
   "execution_count": 2,
   "metadata": {
    "pycharm": {
     "name": "#%%\n"
    }
   },
   "outputs": [],
   "source": [
    "import numpy as np\n",
    "from Bio import Geo\n",
    "\n",
    "def load_geo(myfile):\n",
    "    handle = open(myfile)\n",
    "    records = Geo.parse(handle)\n",
    "    return records\n",
    "\n",
    "records = load_geo('data/GSE21510_family.soft')"
   ]
  },
  {
   "cell_type": "code",
   "execution_count": 3,
   "metadata": {},
   "outputs": [
    {
     "name": "stdout",
     "output_type": "stream",
     "text": [
      "GEO Type: DATABASE\n",
      "GEO Id: GeoMiame\n",
      "Database_email: geo@ncbi.nlm.nih.gov\n",
      "\n",
      "Database_institute: NCBI NLM NIH\n",
      "\n",
      "Database_name: Gene Expression Omnibus (GEO)\n",
      "\n",
      "Database_web_link: http://www.ncbi.nlm.nih.gov/geo\n",
      "\n",
      "Column Header Definitions\n",
      "\n",
      "\n",
      "---------------------- ENTITY_ATTRIBUTES:------------------------------\n",
      "\n",
      "{'Database_name': 'Gene Expression Omnibus (GEO)', 'Database_institute': 'NCBI NLM NIH', 'Database_web_link': 'http://www.ncbi.nlm.nih.gov/geo', 'Database_email': 'geo@ncbi.nlm.nih.gov'}\n"
     ]
    }
   ],
   "source": [
    "nr = next(records)\n",
    "print(nr)\n",
    "print('\\n---------------------- ENTITY_ATTRIBUTES:------------------------------\\n')\n",
    "print(nr.entity_attributes)"
   ]
  },
  {
   "cell_type": "code",
   "execution_count": 4,
   "metadata": {
    "pycharm": {
     "name": "#%%\n"
    }
   },
   "outputs": [],
   "source": [
    "# start by re-loading the data\n",
    "records = load_geo('data/GSE21510_family.soft')\n",
    "\n",
    "\n",
    "id_cond = {}\n",
    "\n",
    "dict_gene = dict()\n",
    "\n",
    "values = []\n",
    "exp_id = []\n",
    "id_ref = []\n",
    "\n",
    "# loop over records\n",
    "for r in records:\n",
    "\n",
    "    rea = r.entity_attributes\n",
    "\n",
    "    if 'Sample_characteristics_ch1' in rea :\n",
    "        sample = rea['Sample_description'][1]\n",
    "        desc = rea[\"Sample_characteristics_ch1\"]\n",
    "        id_cond[sample] = desc\n",
    "\n",
    "    if 'sample_table_begin' in rea:\n",
    "        val = np.array(r.table_rows)\n",
    "        if len(id_ref) == 0:\n",
    "            id_ref = val[1:,0]\n",
    "        values.append(val[1:,1])\n",
    "        exp_id.append(r.entity_attributes['Sample_description'][1])\n",
    "\n",
    "    if 'platform_table_begin' in rea :\n",
    "        for i in r.table_rows :\n",
    "            dict_gene[i[0]] = i[1]\n",
    "\n",
    "\n"
   ]
  },
  {
   "cell_type": "code",
   "execution_count": 5,
   "metadata": {},
   "outputs": [],
   "source": [
    "# converts data to an array (more practical to handle)\n",
    "values = np.array(values)\n",
    "\n",
    "data = [id_ref]\n",
    "for val in values:\n",
    "    data.append(val)\n",
    "    \n",
    "exp_id = np.array(exp_id)\n",
    "exp_id = np.insert(exp_id, 0, 'name_gene')\n",
    "\n",
    "data = np.array(data)\n",
    "\n",
    "data = np.insert(data, 0, exp_id, axis=1)"
   ]
  },
  {
   "cell_type": "code",
   "execution_count": 6,
   "metadata": {
    "pycharm": {
     "name": "#%%\n"
    }
   },
   "outputs": [],
   "source": [
    "metastatis_list = []\n",
    "stage_list = []\n",
    "tissue_list = []\n",
    "\n",
    "for k in id_cond:\n",
    "    v = id_cond[k]\n",
    "    metastatis = v[0].split(':')[1].strip()\n",
    "    stage = v[1].split(':')[1].strip()\n",
    "    tissue = v[2].split(':')[1].split(',')[0].strip()\n",
    "    \n",
    "    metastatis_list.append(metastatis)\n",
    "    stage_list.append(stage)\n",
    "    tissue_list.append(tissue)\n",
    "    \n",
    "    id_cond[k] = [metastatis, stage, tissue]\n",
    "\n",
    "metastatis_list = list(set(metastatis_list))\n",
    "stage_list = list(set(stage_list))\n",
    "tissue_list = list(set(tissue_list))"
   ]
  },
  {
   "cell_type": "code",
   "execution_count": 7,
   "metadata": {},
   "outputs": [
    {
     "name": "stdout",
     "output_type": "stream",
     "text": [
      "['metastasis', 'none', 'metastatic recurrence']\n",
      "['3b', '4', '1', '3c', '0', '2a', '3a', '2b']\n",
      "['normal', 'cancer']\n"
     ]
    }
   ],
   "source": [
    "print(metastatis_list)\n",
    "print(stage_list)\n",
    "print(tissue_list)"
   ]
  },
  {
   "cell_type": "code",
   "execution_count": 8,
   "metadata": {
    "pycharm": {
     "name": "#%%\n"
    },
    "scrolled": true
   },
   "outputs": [
    {
     "data": {
      "text/plain": [
       "'\\nimport random\\nk = 6\\nidx_test = random.sample(range(len(id_cond)), k)\\nidx_train = list(range(0, len(id_cond) + 2))\\n[idx_train.remove(i) for i in idx_test]\\n\\ndata_test = data[idx_test, :]\\ndata = data[idx_train, :]\\n\\nprint(np.shape(data))\\nprint(np.shape(data_test))\\n'"
      ]
     },
     "execution_count": 8,
     "metadata": {},
     "output_type": "execute_result"
    }
   ],
   "source": [
    "'''\n",
    "import random\n",
    "k = 6\n",
    "idx_test = random.sample(range(len(id_cond)), k)\n",
    "idx_train = list(range(0, len(id_cond) + 2))\n",
    "[idx_train.remove(i) for i in idx_test]\n",
    "\n",
    "data_test = data[idx_test, :]\n",
    "data = data[idx_train, :]\n",
    "\n",
    "print(np.shape(data))\n",
    "print(np.shape(data_test))\n",
    "'''"
   ]
  },
  {
   "cell_type": "code",
   "execution_count": 9,
   "metadata": {},
   "outputs": [
    {
     "data": {
      "text/plain": [
       "14"
      ]
     },
     "execution_count": 9,
     "metadata": {},
     "output_type": "execute_result"
    },
    {
     "data": {
      "image/png": "[encoded data removed]",
      "text/plain": [
       "<Figure size 648x288 with 1 Axes>"
      ]
     },
     "metadata": {
      "needs_background": "light"
     },
     "output_type": "display_data"
    }
   ],
   "source": [
    "\n",
    "\n",
    "def plot_gene_expression_across_conditions(data,gene,tissue_type):\n",
    "    \n",
    "    # find the line in data corresponding to our gene of interest and get the gene expression levels\n",
    "    idx_gene = [i for i,x in enumerate(data[0]) if x==gene][0]\n",
    "    \n",
    "    data_to_show = (data[1:,idx_gene]).tolist() # remove the first two elements corresponding to gene name and identifier\n",
    "    data_to_show = np.array(data_to_show,dtype=float) # convert to float\n",
    "    \n",
    "    colors_tissue = []\n",
    "    \n",
    "    for i, v in enumerate(data_to_show):\n",
    "        if id_cond[data[i+1][0]][2] == 'cancer':\n",
    "            colors_tissue.append('k')\n",
    "        else:\n",
    "            colors_tissue.append('c')\n",
    "    \n",
    "    # plot the data\n",
    "    fig, ax = plt.subplots(figsize=(9,4))\n",
    "    plt.bar(range(0,len(data_to_show)),data_to_show, color = colors_tissue)\n",
    "    plt.title(dict_gene[data[0,idx_gene]]+'  ( '+data[0,idx_gene]+' )')\n",
    "    # ax.set_xticks([5,15,23,31,47])\n",
    "    # ax.set_xticklabels([ct.replace(' ','\\n').replace('plus','+') for ct in tissue_type])\n",
    "    ax.set_ylabel('Expression du gene (u.a.)')\n",
    "    \n",
    "    return idx_gene\n",
    "\n",
    "# gene of interest\n",
    "gene = '1552256_a_at' \n",
    "# gene = '206067_s_at'\n",
    "plot_gene_expression_across_conditions(data,gene,tissue_list)"
   ]
  },
  {
   "cell_type": "code",
   "execution_count": 10,
   "metadata": {},
   "outputs": [
    {
     "name": "stdout",
     "output_type": "stream",
     "text": [
      "desired_profile = [1, 1, 1, 1, 1, 1, 1, 1, 1, 1, 1, 1, 1, 1, 1, 1, 1, 1, 1, 1, 1, 1, 1, 1, 1, 1, 1, 1, 1, 1, 1, 1, 1, 1, 1, 1, 1, 1, 1, 1, 1, 1, 1, 1, 1, 1, 1, 1, 1, 1, 1, 1, 1, 1, 1, 1, 1, 1, 1, 1, 1, 1, 1, 1, 1, 1, 1, 1, 1, 1, 1, 1, 1, 1, 1, 1, 1, 1, 1, 1, 1, 1, 1, 1, 1, 1, 1, 1, 1, 1, 1, 1, 1, 1, 1, 1, 1, 1, 1, 1, 1, 1, 1, 1, 0, 0, 0, 0, 0, 0, 0, 0, 0, 0, 0, 0, 0, 0, 0, 0, 0, 0, 0, 0, 0, 0, 0, 0, 0, 1, 1, 1, 1, 1, 1, 1, 1, 1, 1, 1, 1, 1, 1, 1, 1, 1, 1, 1]\n"
     ]
    }
   ],
   "source": [
    "desired_profile = [1 if id_cond[s][2] =='cancer' else 0 for s in data[1:,0]]\n",
    "print('desired_profile = '+str(desired_profile))"
   ]
  },
  {
   "cell_type": "code",
   "execution_count": 11,
   "metadata": {},
   "outputs": [
    {
     "data": {
      "text/plain": [
       "Text(0.5, 1.0, 'Desired profile')"
      ]
     },
     "execution_count": 11,
     "metadata": {},
     "output_type": "execute_result"
    },
    {
     "data": {
      "image/png": "[encoded data removed]",
      "text/plain": [
       "<Figure size 432x288 with 1 Axes>"
      ]
     },
     "metadata": {
      "needs_background": "light"
     },
     "output_type": "display_data"
    }
   ],
   "source": [
    "fig = plt.figure()\n",
    "\n",
    "# plot desired_profile\n",
    "plt.plot(desired_profile)\n",
    "plt.ylim([-0.1,1.1])\n",
    "plt.xlim([0,len(desired_profile)])\n",
    "plt.title('Desired profile')"
   ]
  },
  {
   "cell_type": "code",
   "execution_count": 15,
   "metadata": {},
   "outputs": [
    {
     "data": {
      "image/png": "[encoded data removed]",
      "text/plain": [
       "<Figure size 432x288 with 1 Axes>"
      ]
     },
     "metadata": {
      "needs_background": "light"
     },
     "output_type": "display_data"
    },
    {
     "data": {
      "image/png": "[encoded data removed]",
      "text/plain": [
       "<Figure size 432x288 with 1 Axes>"
      ]
     },
     "metadata": {
      "needs_background": "light"
     },
     "output_type": "display_data"
    }
   ],
   "source": [
    "def pearson_genes(data,desired_profile,show_plot=1):\n",
    "\n",
    "    import scipy.stats as ss\n",
    "\n",
    "    correl = [] # contains the correlation for each gene\n",
    "    correl_p  = [] # for now, do not try to understand what correl_p is...\n",
    "    \n",
    "    # loop over genes\n",
    "    for i in range(np.shape(data)[1]-1): # do not consider first line of data (=header)\n",
    "        \n",
    "        gene_expression = data[1:,i+1] # do not consider first two columns (= gene identifiers)\n",
    "        gene_expression = np.array(gene_expression,dtype=float) # convert to float\n",
    "        \n",
    "        pearson_corr = ss.pearsonr(gene_expression,desired_profile) # calculate Pearson correlation\n",
    "        correl.append(pearson_corr[0])\n",
    "        correl_p.append(pearson_corr[1]) # forget about this for now...\n",
    "        \n",
    "    correl = np.array(correl,dtype=float) # convert to array... easier to manipulate\n",
    "    \n",
    "    # plot correlation values\n",
    "    if show_plot:\n",
    "        fig = plt.figure()\n",
    "        plt.plot(correl,'bo')\n",
    "        plt.ylim([-1,1])\n",
    "        plt.xlim([0,len(correl)])\n",
    "        plt.xlabel('Gene index')\n",
    "        plt.ylabel('Pearson correlation')\n",
    "        plt.show()\n",
    "        \n",
    "        plt.figure()\n",
    "        plt.hist(correl)\n",
    "        plt.xlabel('Pearson correlation')\n",
    "        plt.ylabel('Counts')\n",
    "        plt.xlim([-1,1])\n",
    "        plt.show()\n",
    "\n",
    "    return (correl,correl_p)\n",
    "\n",
    "co = pearson_genes(data,desired_profile)\n",
    "corr = co[0]"
   ]
  },
  {
   "cell_type": "code",
   "execution_count": 32,
   "metadata": {},
   "outputs": [
    {
     "name": "stdout",
     "output_type": "stream",
     "text": [
      "['C101' '10.33385093' '7.078174158' '5.936283323' '7.819676468'] = un gène NON randomisé\n",
      "['C101' '4.755732889' '6.359592788' '3.566669626' '5.836354889'] = le même gène avec les conditions randomisées\n"
     ]
    }
   ],
   "source": [
    "def shuffle_data(data):\n",
    "    \n",
    "    from random import shuffle\n",
    "    \n",
    "    # get shuffled columns indexes\n",
    "    shuffled_idx = list(range(1,np.shape(data)[1])) # ! do not shuffle the first two colums (= gene identifiers)\n",
    "    shuffle(shuffled_idx) # shuffled_idx is now shuffled\n",
    "    shuffled_idx.insert(0,0)\n",
    "    \n",
    "    # use shuffled_idx to randomize the columns of data\n",
    "    data_random = data[:,shuffled_idx]\n",
    "    data_random[0,:] = data[0,:] # put label conditons on top again\n",
    "\n",
    "    return data_random\n",
    "    \n",
    "data_random = shuffle_data(data)\n",
    "print(str(data[3,0:5])+' = un gène NON randomisé')\n",
    "print(str(data_random[3,0:5])+' = le même gène avec les conditions randomisées')"
   ]
  },
  {
   "cell_type": "code",
   "execution_count": 34,
   "metadata": {},
   "outputs": [
    {
     "data": {
      "image/png": "[encoded data removed]",
      "text/plain": [
       "<Figure size 432x288 with 1 Axes>"
      ]
     },
     "metadata": {
      "needs_background": "light"
     },
     "output_type": "display_data"
    }
   ],
   "source": [
    "def histogram_pearson(data, desired_profile):\n",
    "    co_ra = pearson_genes(data_random,desired_profile,show_plot=0)\n",
    "    corr_ra = co_ra[0]\n",
    "\n",
    "    plt.figure()\n",
    "    plt.hist(corr)\n",
    "    plt.hist(corr_ra,alpha=0.5)\n",
    "    plt.xlabel('Pearson correlation')\n",
    "    plt.ylabel('Counts')\n",
    "    plt.xlim([-1,1])\n",
    "    plt.show()\n",
    "    \n",
    "histogram_pearson(data_random, desired_profile)"
   ]
  },
  {
   "cell_type": "code",
   "execution_count": null,
   "metadata": {},
   "outputs": [],
   "source": []
  }
 ],
 "metadata": {
  "kernelspec": {
   "display_name": "Python 3",
   "language": "python",
   "name": "python3"
  },
  "language_info": {
   "codemirror_mode": {
    "name": "ipython",
    "version": 3
   },
   "file_extension": ".py",
   "mimetype": "text/x-python",
   "name": "python",
   "nbconvert_exporter": "python",
   "pygments_lexer": "ipython3",
   "version": "3.9.5"
  }
 },
 "nbformat": 4,
 "nbformat_minor": 1
}
